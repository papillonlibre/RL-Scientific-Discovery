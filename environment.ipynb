{
 "cells": [
  {
   "cell_type": "markdown",
   "metadata": {},
   "source": [
    "# Environment\n",
    "\n",
    "This notebook sets up a PyBullet environment for the [OpenAI Gym](https://gym.openai.com/) interface. The environment is based on the [PyBullet](https://pybullet.org/wordpress/) physics simulator. The environment is a satellite orbiting a moon. The satellite is controlled by a thruster that can be fired in the x, y, or z direction. The goal is to keep the satellite in a stable orbit around the moon."
   ]
  },
  {
   "cell_type": "code",
   "execution_count": 1,
   "metadata": {},
   "outputs": [
    {
     "name": "stderr",
     "output_type": "stream",
     "text": [
      "pybullet build time: Oct 14 2023 16:00:11\n"
     ]
    }
   ],
   "source": [
    "import pybullet as p\n",
    "import pybullet_data\n",
    "import time"
   ]
  },
  {
   "cell_type": "code",
   "execution_count": 2,
   "metadata": {},
   "outputs": [
    {
     "name": "stdout",
     "output_type": "stream",
     "text": [
      "Version = 4.1 Metal - 87\n",
      "Vendor = Apple\n",
      "Renderer = Apple M1 Max\n",
      "b3Printf: Selected demo: Physics Server\n",
      "startThreads creating 1 threads.\n",
      "starting thread 0\n",
      "started thread 0 \n",
      "MotionThreadFunc thread started\n"
     ]
    },
    {
     "ename": "",
     "evalue": "",
     "output_type": "error",
     "traceback": [
      "\u001b[1;31mThe Kernel crashed while executing code in the the current cell or a previous cell. Please review the code in the cell(s) to identify a possible cause of the failure. Click <a href='https://aka.ms/vscodeJupyterKernelCrash'>here</a> for more info. View Jupyter <a href='command:jupyter.viewOutput'>log</a> for further details."
     ]
    }
   ],
   "source": [
    "physicsClient = p.connect(p.GUI)\n",
    "p.setAdditionalSearchPath(pybullet_data.getDataPath())\n",
    "\n",
    "# Create a simulation environment of outer space\n",
    "p.setGravity(0, 0, 0)\n",
    "p.setRealTimeSimulation(1)\n",
    "\n",
    "# Create the planet\n",
    "planet = p.createCollisionShape(p.GEOM_SPHERE, radius=1)\n",
    "planetVisual = p.createVisualShape(p.GEOM_SPHERE, radius=1, rgbaColor=[0, 0, 1, 1])\n",
    "planetId = p.createMultiBody(baseMass=0, baseCollisionShapeIndex=planet, baseVisualShapeIndex=planetVisual, basePosition=[0, 0, 0])\n",
    "\n",
    "# Create the spaceship\n",
    "spaceship = p.createCollisionShape(p.GEOM_SPHERE, radius=0.1)\n",
    "spaceshipVisual = p.createVisualShape(p.GEOM_SPHERE, radius=0.1, rgbaColor=[1, 0, 0, 1])\n",
    "spaceshipId = p.createMultiBody(baseMass=1, baseCollisionShapeIndex=spaceship, baseVisualShapeIndex=spaceshipVisual, basePosition=[0, 0, 2])\n",
    "\n",
    "# Set the camera position\n",
    "p.resetDebugVisualizerCamera(cameraDistance=5, cameraYaw=0, cameraPitch=-40, cameraTargetPosition=[0, 0, 0])\n",
    "\n",
    "# Set the spaceship velocity\n",
    "p.resetBaseVelocity(spaceshipId, linearVelocity=[0, 0, 0], angularVelocity=[0, 0, 0])\n",
    "\n",
    "# Set the spaceship orientation\n",
    "p.resetBasePositionAndOrientation(spaceshipId, [0, 0, 2], [0, 0, 0, 1])\n",
    "\n",
    "\n",
    "# Simulation loop\n",
    "while True:\n",
    "    # Get the current position and orientation of the spaceship\n",
    "    position, orientation = p.getBasePositionAndOrientation(spaceshipId)\n",
    "    print(f\"Position: {position}, Orientation: {orientation}\")\n",
    "\n",
    "    # Apply a force to the spaceship\n",
    "    p.applyExternalForce(spaceshipId, -1, forceObj=[0, 0, 1], posObj=[0, 0, 0], flags=p.WORLD_FRAME)\n",
    "\n",
    "    # Step the simulation\n",
    "    p.stepSimulation()\n",
    "    time.sleep(1./240.)\n",
    "\n",
    "p.disconnect()"
   ]
  }
 ],
 "metadata": {
  "kernelspec": {
   "display_name": "Enceladus",
   "language": "python",
   "name": "python3"
  },
  "language_info": {
   "codemirror_mode": {
    "name": "ipython",
    "version": 3
   },
   "file_extension": ".py",
   "mimetype": "text/x-python",
   "name": "python",
   "nbconvert_exporter": "python",
   "pygments_lexer": "ipython3",
   "version": "3.12.0"
  }
 },
 "nbformat": 4,
 "nbformat_minor": 2
}

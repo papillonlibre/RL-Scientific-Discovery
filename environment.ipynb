{
 "cells": [
  {
   "cell_type": "markdown",
   "metadata": {},
   "source": [
    "# Environment\n",
    "\n",
    "This notebook sets up a PyBullet environment for the [OpenAI Gym](https://gym.openai.com/) interface. The environment is based on the [PyBullet](https://pybullet.org/wordpress/) physics simulator. The environment is a satellite orbiting a moon. The satellite is controlled by a thruster that can be fired in the x, y, or z direction. The goal is to keep the satellite in a stable orbit around the moon."
   ]
  },
  {
   "cell_type": "code",
   "execution_count": 1,
   "metadata": {},
   "outputs": [
    {
     "name": "stderr",
     "output_type": "stream",
     "text": [
      "pybullet build time: Oct 14 2023 16:00:11\n"
     ]
    }
   ],
   "source": [
    "import pybullet as p\n",
    "import pybullet_data\n",
    "import time\n",
    "import numpy as np"
   ]
  },
  {
   "cell_type": "code",
   "execution_count": 2,
   "metadata": {},
   "outputs": [],
   "source": [
    "# Constants\n",
    "sim_speed = 480\n",
    "G = 6.67430e-11\n",
    "\n",
    "r_moon = 2.52e2\n",
    "m_moon = 1.00e14\n",
    "x_moon = np.array([0, 0, 0])\n",
    "\n",
    "r_satellite = 1.00\n",
    "m_satellite = 1.00e3\n",
    "x_satellite = np.array([2 * r_moon, 0, 0])"
   ]
  },
  {
   "cell_type": "code",
   "execution_count": 3,
   "metadata": {},
   "outputs": [
    {
     "name": "stdout",
     "output_type": "stream",
     "text": [
      "Version = 4.1 Metal - 87\n",
      "Vendor = Apple\n",
      "Renderer = Apple M1 Max\n",
      "b3Printf: Selected demo: Physics Server\n",
      "startThreads creating 1 threads.\n",
      "starting thread 0\n",
      "started thread 0 \n",
      "MotionThreadFunc thread started\n"
     ]
    }
   ],
   "source": [
    "# Create the client\n",
    "physicsClient = p.connect(p.GUI)\n",
    "p.setAdditionalSearchPath(pybullet_data.getDataPath())\n",
    "\n",
    "# Set simulation speed\n",
    "p.setRealTimeSimulation(0)\n",
    "p.setTimeStep(sim_speed * 1.0 / 240.0)"
   ]
  },
  {
   "cell_type": "code",
   "execution_count": 4,
   "metadata": {},
   "outputs": [],
   "source": [
    "p.loadURDF(\"plane.urdf\")\n",
    "\n",
    "# Load the moon\n",
    "moonCollider = p.createCollisionShape(p.GEOM_SPHERE, radius=r_moon)\n",
    "moonVisual   = p.createVisualShape(p.GEOM_SPHERE, radius=r_moon, rgbaColor=[0.5, 0.5, 0.5, 1])\n",
    "moon = p.createMultiBody(baseMass=m_moon, baseCollisionShapeIndex=moonCollider, baseVisualShapeIndex=moonVisual, basePosition=x_moon)\n",
    "\n",
    "# Load the satellite\n",
    "satelliteCollider = p.createCollisionShape(p.GEOM_SPHERE, radius=r_satellite)\n",
    "satelliteVisual   = p.createVisualShape(p.GEOM_SPHERE, radius=r_satellite, rgbaColor=[0, 0, 1, 1])\n",
    "satellite = p.createMultiBody(baseMass=m_satellite, baseCollisionShapeIndex=satelliteCollider, baseVisualShapeIndex=satelliteVisual, basePosition=x_satellite)\n",
    "\n",
    "# Set the camera position\n",
    "p.resetDebugVisualizerCamera(cameraDistance=3 * r_moon, cameraYaw=0, cameraPitch=-90, cameraTargetPosition=[0, 0, 0])\n",
    "\n",
    "# Set the gravity\n",
    "p.setGravity(0, 0, 0)\n",
    "\n",
    "# Set the initial velocity\n",
    "v = np.sqrt(G * m_moon / r_moon)\n",
    "v_satellite = np.array([0, v, 0])\n",
    "p.resetBaseVelocity(satellite, v_satellite)\n",
    "\n",
    "# Run the simulation\n",
    "for i in range(100000):\n",
    "    p.stepSimulation()\n",
    "    time.sleep(1.0 / sim_speed)\n",
    "    x_satellite, _ = p.getBasePositionAndOrientation(satellite)\n",
    "    x_moon, _ = p.getBasePositionAndOrientation(moon)\n",
    "    r = np.array(x_satellite) - np.array(x_moon)\n",
    "    r_norm = np.linalg.norm(r)\n",
    "    a = -G * m_moon / r_norm ** 3 * r\n",
    "    p.applyExternalForce(satellite, -1, a * m_satellite, x_satellite, p.WORLD_FRAME)\n",
    "\n",
    "p.disconnect()"
   ]
  }
 ],
 "metadata": {
  "kernelspec": {
   "display_name": "Enceladus",
   "language": "python",
   "name": "python3"
  },
  "language_info": {
   "codemirror_mode": {
    "name": "ipython",
    "version": 3
   },
   "file_extension": ".py",
   "mimetype": "text/x-python",
   "name": "python",
   "nbconvert_exporter": "python",
   "pygments_lexer": "ipython3",
   "version": "3.12.0"
  }
 },
 "nbformat": 4,
 "nbformat_minor": 2
}

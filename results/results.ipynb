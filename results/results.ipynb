{
 "cells": [
  {
   "cell_type": "code",
   "execution_count": 25,
   "metadata": {},
   "outputs": [],
   "source": [
    "import numpy as np"
   ]
  },
  {
   "cell_type": "code",
   "execution_count": 26,
   "metadata": {},
   "outputs": [
    {
     "data": {
      "text/plain": [
       "['timestamps', 'states', 'controls']"
      ]
     },
     "execution_count": 26,
     "metadata": {},
     "output_type": "execute_result"
    }
   ],
   "source": [
    "data = np.load(\"results.npy\")\n",
    "labels = data.files\n",
    "labels"
   ]
  },
  {
   "cell_type": "code",
   "execution_count": 27,
   "metadata": {},
   "outputs": [
    {
     "name": "stdout",
     "output_type": "stream",
     "text": [
      "(1, 100352) (16, 100352) (12, 100352)\n"
     ]
    }
   ],
   "source": [
    "timestamps = data['timestamps']\n",
    "states = data['states'][0]\n",
    "controls = data['controls'][0]\n",
    "\n",
    "print(timestamps.shape, states.shape, controls.shape)"
   ]
  },
  {
   "cell_type": "code",
   "execution_count": 28,
   "metadata": {},
   "outputs": [
    {
     "data": {
      "text/plain": [
       "array([ 0.03333333,  0.082085  , -2.        , -1.        ])"
      ]
     },
     "execution_count": 28,
     "metadata": {},
     "output_type": "execute_result"
    }
   ],
   "source": [
    "data_table = np.vstack((timestamps, states))[0:4].T\n",
    "data_table[0]"
   ]
  },
  {
   "cell_type": "code",
   "execution_count": 29,
   "metadata": {},
   "outputs": [],
   "source": [
    "def reward(row):\n",
    "    reward = 0\n",
    "    if row[\"concentration\"] > 0.9:\n",
    "        reward += row[\"concentration\"] * 1000\n",
    "    else:\n",
    "        reward -= (1 - row[\"concentration\"])\n",
    "    return reward"
   ]
  },
  {
   "cell_type": "code",
   "execution_count": 30,
   "metadata": {},
   "outputs": [],
   "source": [
    "import pandas as pd\n",
    "\n",
    "cols = [\"timestamp\", \"concentration\",  \"x_offset\", \"y_offset\"]\n",
    "df = pd.DataFrame(data_table, columns=cols)"
   ]
  },
  {
   "cell_type": "code",
   "execution_count": 31,
   "metadata": {},
   "outputs": [],
   "source": [
    "df[\"reward\"] = df.apply(reward, axis=1)"
   ]
  },
  {
   "cell_type": "code",
   "execution_count": 32,
   "metadata": {},
   "outputs": [
    {
     "data": {
      "text/plain": [
       "Index([    0,   704,  3205,  3499,  3500,  3501,  4981,  7157,  7158,  7570,\n",
       "       ...\n",
       "       90302, 90845, 91270, 92194, 93260, 93261, 95762, 95763, 97617, 97992],\n",
       "      dtype='int64', length=293)"
      ]
     },
     "execution_count": 32,
     "metadata": {},
     "output_type": "execute_result"
    }
   ],
   "source": [
    "episode_starts = df[df[\"timestamp\"] < 0.04].index\n",
    "episode_starts"
   ]
  },
  {
   "cell_type": "code",
   "execution_count": 33,
   "metadata": {},
   "outputs": [
    {
     "name": "stdout",
     "output_type": "stream",
     "text": [
      "       timestamp  concentration  x_offset  y_offset       reward\n",
      "35428   0.033333       1.000000  0.000000  0.000000  1000.000000\n",
      "35429   0.066667       1.000000  0.000000  0.000000  1000.000000\n",
      "35430   0.100000       1.000000  0.000000  0.000000  1000.000000\n",
      "35431   0.133333       1.000000  0.000000  0.000000  1000.000000\n",
      "35432   0.166667       1.000000  0.000000  0.000000  1000.000000\n",
      "...          ...            ...       ...       ...          ...\n",
      "35805  12.600000       0.012183  2.113159 -2.085652    -0.987817\n",
      "35806  12.633333       0.011488  2.119903 -2.106875    -0.988512\n",
      "35807  12.666667       0.010824  2.126642 -2.128252    -0.989176\n",
      "35808  12.700000       0.010190  2.133373 -2.149731    -0.989810\n",
      "35809  12.733333       0.009588  2.140092 -2.171273    -0.990412\n",
      "\n",
      "[382 rows x 5 columns]\n"
     ]
    }
   ],
   "source": [
    "episodes = []\n",
    "for ep, next_ep in zip(episode_starts[:-1], episode_starts[1:]):\n",
    "\tif next_ep - ep == 1:\n",
    "\t\tcontinue\n",
    "\tepisodes.append(df[ep:next_ep])\n",
    "episodes.append(df[episode_starts[-1]:])\n",
    "print(episodes[77])"
   ]
  },
  {
   "cell_type": "code",
   "execution_count": 34,
   "metadata": {},
   "outputs": [],
   "source": [
    "def episodic_mean_reward(episode_num):\n",
    "\tmean_reward = episodes[episode_num].loc[:, 'reward'].mean()\n",
    "\treturn mean_reward"
   ]
  },
  {
   "cell_type": "code",
   "execution_count": 35,
   "metadata": {},
   "outputs": [
    {
     "name": "stdout",
     "output_type": "stream",
     "text": [
      "36.839885172572934\n"
     ]
    }
   ],
   "source": [
    "print(episodic_mean_reward(1))"
   ]
  },
  {
   "cell_type": "code",
   "execution_count": 36,
   "metadata": {},
   "outputs": [],
   "source": [
    "def simulation_average_reward():\n",
    "\taverage_reward = []\n",
    "\tfor episode in range(len(episodes)):\n",
    "\t\taverage_reward.append(episodic_mean_reward(episode))\n",
    "\treturn np.mean(average_reward)\n"
   ]
  },
  {
   "cell_type": "code",
   "execution_count": 37,
   "metadata": {},
   "outputs": [
    {
     "name": "stdout",
     "output_type": "stream",
     "text": [
      "27.13489824114692\n"
     ]
    }
   ],
   "source": [
    "print(simulation_average_reward())"
   ]
  },
  {
   "cell_type": "code",
   "execution_count": 38,
   "metadata": {},
   "outputs": [
    {
     "name": "stdout",
     "output_type": "stream",
     "text": [
      "204\n"
     ]
    }
   ],
   "source": [
    "print(len(episodes))"
   ]
  },
  {
   "cell_type": "code",
   "execution_count": 39,
   "metadata": {},
   "outputs": [
    {
     "data": {
      "text/plain": [
       "<Figure size 640x480 with 0 Axes>"
      ]
     },
     "metadata": {},
     "output_type": "display_data"
    }
   ],
   "source": [
    "import matplotlib.pyplot  as plt\n",
    "\n",
    "for episode_number, episode in enumerate(episodes):\n",
    "\tplt.scatter(episode['timestamp'], episode['reward'], s=2.5)\n",
    "\tplt.savefig(f'images/episode_{episode_number}_plot.png')\n",
    "\tplt.clf()"
   ]
  },
  {
   "cell_type": "code",
   "execution_count": 40,
   "metadata": {},
   "outputs": [
    {
     "data": {
      "image/png": "[encoded data removed]",
      "text/plain": [
       "<Figure size 640x480 with 1 Axes>"
      ]
     },
     "metadata": {},
     "output_type": "display_data"
    }
   ],
   "source": [
    "for episode_number, episode in enumerate(episodes):\n",
    "    plt.scatter(len(episode.index), episodic_mean_reward(episode_number))\n",
    "\n",
    "plt.title(\"Episodic Average Reward vs. Episode Length\")\n",
    "plt.xlabel(\"Episode Length (steps)\")\n",
    "plt.ylabel(\"Episodic Average Reward\")\n",
    "plt.show()"
   ]
  },
  {
   "cell_type": "code",
   "execution_count": 50,
   "metadata": {},
   "outputs": [],
   "source": [
    "def trajectory(episode, episode_number):\n",
    "    plt.scatter(episode['x_offset'], episode['y_offset'], s=2.5)\n",
    "    plt.savefig(f'trajectories/episode_{episode_number}_trajectory.png')\n",
    "    plt.clf()"
   ]
  },
  {
   "cell_type": "code",
   "execution_count": 51,
   "metadata": {},
   "outputs": [
    {
     "data": {
      "text/plain": [
       "<Figure size 640x480 with 0 Axes>"
      ]
     },
     "metadata": {},
     "output_type": "display_data"
    }
   ],
   "source": [
    "for episode_number, episode in enumerate(episodes):\n",
    "    trajectory(episode, episode_number)"
   ]
  }
 ],
 "metadata": {
  "kernelspec": {
   "display_name": "Enceladus",
   "language": "python",
   "name": "python3"
  },
  "language_info": {
   "codemirror_mode": {
    "name": "ipython",
    "version": 3
   },
   "file_extension": ".py",
   "mimetype": "text/x-python",
   "name": "python",
   "nbconvert_exporter": "python",
   "pygments_lexer": "ipython3",
   "version": "3.11.3"
  }
 },
 "nbformat": 4,
 "nbformat_minor": 2
}

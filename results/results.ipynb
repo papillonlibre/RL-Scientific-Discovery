{
 "cells": [
  {
   "cell_type": "code",
   "execution_count": 1,
   "metadata": {},
   "outputs": [],
   "source": [
    "import numpy as np"
   ]
  },
  {
   "cell_type": "code",
   "execution_count": 2,
   "metadata": {},
   "outputs": [
    {
     "data": {
      "text/plain": [
       "['timestamps', 'states', 'controls']"
      ]
     },
     "execution_count": 2,
     "metadata": {},
     "output_type": "execute_result"
    }
   ],
   "source": [
    "data = np.load(\"results.npy\")\n",
    "labels = data.files\n",
    "labels"
   ]
  },
  {
   "cell_type": "code",
   "execution_count": 3,
   "metadata": {},
   "outputs": [
    {
     "name": "stdout",
     "output_type": "stream",
     "text": [
      "(1, 100352) (16, 100352) (12, 100352)\n"
     ]
    }
   ],
   "source": [
    "timestamps = data['timestamps']\n",
    "states = data['states'][0]\n",
    "controls = data['controls'][0]\n",
    "\n",
    "print(timestamps.shape, states.shape, controls.shape)"
   ]
  },
  {
   "cell_type": "code",
   "execution_count": 4,
   "metadata": {},
   "outputs": [
    {
     "data": {
      "text/plain": [
       "array([ 0.03333333,  0.011109  ,  0.        , -3.        ])"
      ]
     },
     "execution_count": 4,
     "metadata": {},
     "output_type": "execute_result"
    }
   ],
   "source": [
    "data_table = np.vstack((timestamps, states))[0:4].T\n",
    "data_table[0]"
   ]
  },
  {
   "cell_type": "code",
   "execution_count": 5,
   "metadata": {},
   "outputs": [],
   "source": [
    "def reward(row):\n",
    "    reward = 0\n",
    "    if row[\"concentration\"] > 0.9:\n",
    "        reward += row[\"concentration\"] * 1000\n",
    "    else:\n",
    "        reward -= (1 - row[\"concentration\"])\n",
    "    return reward"
   ]
  },
  {
   "cell_type": "code",
   "execution_count": 6,
   "metadata": {},
   "outputs": [
    {
     "name": "stderr",
     "output_type": "stream",
     "text": [
      "C:\\Users\\bello\\AppData\\Local\\Temp\\ipykernel_17940\\3222619845.py:1: DeprecationWarning: \n",
      "Pyarrow will become a required dependency of pandas in the next major release of pandas (pandas 3.0),\n",
      "(to allow more performant data types, such as the Arrow string type, and better interoperability with other libraries)\n",
      "but was not found to be installed on your system.\n",
      "If this would cause problems for you,\n",
      "please provide us feedback at https://github.com/pandas-dev/pandas/issues/54466\n",
      "        \n",
      "  import pandas as pd\n"
     ]
    }
   ],
   "source": [
    "import pandas as pd\n",
    "\n",
    "cols = [\"timestamp\", \"concentration\",  \"x_offset\", \"y_offset\"]\n",
    "df = pd.DataFrame(data_table, columns=cols)"
   ]
  },
  {
   "cell_type": "code",
   "execution_count": 7,
   "metadata": {},
   "outputs": [],
   "source": [
    "df[\"reward\"] = df.apply(reward, axis=1)"
   ]
  },
  {
   "cell_type": "code",
   "execution_count": 8,
   "metadata": {},
   "outputs": [
    {
     "data": {
      "text/plain": [
       "Index([     0,      1,      2,   2503,   5004,   5288,   5289,   5290,   5291,\n",
       "         7792,\n",
       "       ...\n",
       "        98649,  98650,  99179,  99299,  99410,  99910,  99911,  99912, 100286,\n",
       "       100287],\n",
       "      dtype='int64', length=519)"
      ]
     },
     "execution_count": 8,
     "metadata": {},
     "output_type": "execute_result"
    }
   ],
   "source": [
    "episode_starts = df[df[\"timestamp\"] < 0.04].index\n",
    "episode_starts"
   ]
  },
  {
   "cell_type": "code",
   "execution_count": 9,
   "metadata": {},
   "outputs": [
    {
     "name": "stdout",
     "output_type": "stream",
     "text": [
      "       timestamp  concentration  x_offset  y_offset    reward\n",
      "39078   0.033333       0.606531      -1.0       0.0 -0.393469\n",
      "39079   0.066667       0.606531      -1.0       0.0 -0.393469\n",
      "39080   0.100000       0.606531      -1.0       0.0 -0.393469\n",
      "39081   0.133333       0.606531      -1.0       0.0 -0.393469\n",
      "39082   0.166667       0.606531      -1.0       0.0 -0.393469\n",
      "...          ...            ...       ...       ...       ...\n",
      "39597  17.333333       0.022291       1.0      -2.0 -0.977709\n",
      "39598  17.366667       0.021543       1.0      -2.0 -0.978457\n",
      "39599  17.400000       0.020827       1.0      -2.0 -0.979173\n",
      "39600  17.433333       0.020142       1.0      -2.0 -0.979858\n",
      "39601  17.466667       0.019488       1.0      -2.0 -0.980512\n",
      "\n",
      "[524 rows x 5 columns]\n"
     ]
    }
   ],
   "source": [
    "episodes = []\n",
    "for ep, next_ep in zip(episode_starts[:-1], episode_starts[1:]):\n",
    "\tif next_ep - ep == 1:\n",
    "\t\tcontinue\n",
    "\tepisodes.append(df[ep:next_ep])\n",
    "episodes.append(df[episode_starts[-1]:])\n",
    "print(episodes[77])"
   ]
  },
  {
   "cell_type": "code",
   "execution_count": 10,
   "metadata": {},
   "outputs": [],
   "source": [
    "def episodic_mean_reward(episode_num):\n",
    "\tmean_reward = episodes[episode_num].loc[:, 'reward'].mean()\n",
    "\treturn mean_reward"
   ]
  },
  {
   "cell_type": "code",
   "execution_count": 14,
   "metadata": {},
   "outputs": [
    {
     "name": "stdout",
     "output_type": "stream",
     "text": [
      "-0.7081739457745085\n"
     ]
    }
   ],
   "source": [
    "print(episodic_mean_reward(1))"
   ]
  },
  {
   "cell_type": "code",
   "execution_count": 19,
   "metadata": {},
   "outputs": [],
   "source": [
    "def simulation_average_reward():\n",
    "\taverage_reward = []\n",
    "\tfor episode in range(len(episodes)):\n",
    "\t\taverage_reward.append(episodic_mean_reward(episode))\n",
    "\treturn np.mean(average_reward)\n",
    "\t"
   ]
  },
  {
   "cell_type": "code",
   "execution_count": 20,
   "metadata": {},
   "outputs": [
    {
     "name": "stdout",
     "output_type": "stream",
     "text": [
      "20.619429098710334\n"
     ]
    }
   ],
   "source": [
    "print(simulation_average_reward())"
   ]
  },
  {
   "cell_type": "code",
   "execution_count": 21,
   "metadata": {},
   "outputs": [
    {
     "name": "stdout",
     "output_type": "stream",
     "text": [
      "264\n"
     ]
    }
   ],
   "source": [
    "print(len(episodes))"
   ]
  },
  {
   "cell_type": "code",
   "execution_count": 32,
   "metadata": {},
   "outputs": [
    {
     "data": {
      "text/plain": [
       "<Figure size 640x480 with 0 Axes>"
      ]
     },
     "metadata": {},
     "output_type": "display_data"
    }
   ],
   "source": [
    "import matplotlib.pyplot  as plt\n",
    "\n",
    "for episode_number, episode in enumerate(episodes):\n",
    "\tplt.scatter(episode['timestamp'], episode['reward'], s=2.5)\n",
    "\tplt.savefig(f'images/episode_{episode_number}_plot.png')\n",
    "\tplt.clf()"
   ]
  },
  {
   "cell_type": "code",
   "execution_count": null,
   "metadata": {},
   "outputs": [],
   "source": []
  }
 ],
 "metadata": {
  "kernelspec": {
   "display_name": "Enceladus",
   "language": "python",
   "name": "python3"
  },
  "language_info": {
   "codemirror_mode": {
    "name": "ipython",
    "version": 3
   },
   "file_extension": ".py",
   "mimetype": "text/x-python",
   "name": "python",
   "nbconvert_exporter": "python",
   "pygments_lexer": "ipython3",
   "version": "3.10.13"
  }
 },
 "nbformat": 4,
 "nbformat_minor": 2
}
